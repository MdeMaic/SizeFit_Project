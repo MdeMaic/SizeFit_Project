{
 "cells": [
  {
   "cell_type": "code",
   "execution_count": 4,
   "metadata": {},
   "outputs": [],
   "source": [
    "import pandas as pd"
   ]
  },
  {
   "cell_type": "code",
   "execution_count": 5,
   "metadata": {},
   "outputs": [],
   "source": [
    "results=[\n",
    "    {'ord':1,\n",
    "     'model':'LinearClassificator',\n",
    "     'parameters':'default',\n",
    "     'score':0.65,\n",
    "     'public_score':\"not delivered\"},\n",
    "    {'ord':2,\n",
    "     'model':'RandomForestClassificator',\n",
    "     'parameters':'balance dropping values (650)',\n",
    "     'score':0.92,\n",
    "     'public_score':0.53},\n",
    "    {'ord':3,\n",
    "     'model':'RandomForestClassificator',\n",
    "     'parameters':'balance smote (creating)',\n",
    "     'score':0.98,\n",
    "     'public_score':0.987},\n",
    "    {'ord':4,\n",
    "     'model':'RandomForestClassificator',\n",
    "     'parameters':'n_estimators = 500',\n",
    "     'score':0.94,\n",
    "     'public_score':'not delivered'},\n",
    "    {'ord':5,\n",
    "     'model':'RandomForestClassificator',\n",
    "     'parameters':'all testset',\n",
    "     'score':0.98,\n",
    "     'public_score':0.987}\n",
    "]"
   ]
  },
  {
   "cell_type": "code",
   "execution_count": 6,
   "metadata": {},
   "outputs": [],
   "source": [
    "df_results = pd.DataFrame(results)"
   ]
  },
  {
   "cell_type": "code",
   "execution_count": 7,
   "metadata": {},
   "outputs": [
    {
     "data": {
      "text/html": [
       "<div>\n",
       "<style scoped>\n",
       "    .dataframe tbody tr th:only-of-type {\n",
       "        vertical-align: middle;\n",
       "    }\n",
       "\n",
       "    .dataframe tbody tr th {\n",
       "        vertical-align: top;\n",
       "    }\n",
       "\n",
       "    .dataframe thead th {\n",
       "        text-align: right;\n",
       "    }\n",
       "</style>\n",
       "<table border=\"1\" class=\"dataframe\">\n",
       "  <thead>\n",
       "    <tr style=\"text-align: right;\">\n",
       "      <th></th>\n",
       "      <th>model</th>\n",
       "      <th>parameters</th>\n",
       "      <th>score</th>\n",
       "      <th>public_score</th>\n",
       "    </tr>\n",
       "    <tr>\n",
       "      <th>ord</th>\n",
       "      <th></th>\n",
       "      <th></th>\n",
       "      <th></th>\n",
       "      <th></th>\n",
       "    </tr>\n",
       "  </thead>\n",
       "  <tbody>\n",
       "    <tr>\n",
       "      <th>1</th>\n",
       "      <td>LinearClassificator</td>\n",
       "      <td>default</td>\n",
       "      <td>0.65</td>\n",
       "      <td>not delivered</td>\n",
       "    </tr>\n",
       "    <tr>\n",
       "      <th>2</th>\n",
       "      <td>RandomForestClassificator</td>\n",
       "      <td>balance dropping values (650)</td>\n",
       "      <td>0.92</td>\n",
       "      <td>0.53</td>\n",
       "    </tr>\n",
       "    <tr>\n",
       "      <th>3</th>\n",
       "      <td>RandomForestClassificator</td>\n",
       "      <td>balance smote (creating)</td>\n",
       "      <td>0.98</td>\n",
       "      <td>0.987</td>\n",
       "    </tr>\n",
       "    <tr>\n",
       "      <th>4</th>\n",
       "      <td>RandomForestClassificator</td>\n",
       "      <td>n_estimators = 500</td>\n",
       "      <td>0.94</td>\n",
       "      <td>not delivered</td>\n",
       "    </tr>\n",
       "    <tr>\n",
       "      <th>5</th>\n",
       "      <td>RandomForestClassificator</td>\n",
       "      <td>all testset</td>\n",
       "      <td>0.98</td>\n",
       "      <td>0.987</td>\n",
       "    </tr>\n",
       "  </tbody>\n",
       "</table>\n",
       "</div>"
      ],
      "text/plain": [
       "                         model                     parameters  score  \\\n",
       "ord                                                                    \n",
       "1          LinearClassificator                        default   0.65   \n",
       "2    RandomForestClassificator  balance dropping values (650)   0.92   \n",
       "3    RandomForestClassificator       balance smote (creating)   0.98   \n",
       "4    RandomForestClassificator             n_estimators = 500   0.94   \n",
       "5    RandomForestClassificator                    all testset   0.98   \n",
       "\n",
       "      public_score  \n",
       "ord                 \n",
       "1    not delivered  \n",
       "2             0.53  \n",
       "3            0.987  \n",
       "4    not delivered  \n",
       "5            0.987  "
      ]
     },
     "execution_count": 7,
     "metadata": {},
     "output_type": "execute_result"
    }
   ],
   "source": [
    "df_results.set_index(\"ord\")"
   ]
  },
  {
   "cell_type": "code",
   "execution_count": null,
   "metadata": {},
   "outputs": [],
   "source": []
  }
 ],
 "metadata": {
  "kernelspec": {
   "display_name": "Python 3",
   "language": "python",
   "name": "python3"
  },
  "language_info": {
   "codemirror_mode": {
    "name": "ipython",
    "version": 3
   },
   "file_extension": ".py",
   "mimetype": "text/x-python",
   "name": "python",
   "nbconvert_exporter": "python",
   "pygments_lexer": "ipython3",
   "version": "3.7.6"
  }
 },
 "nbformat": 4,
 "nbformat_minor": 2
}
