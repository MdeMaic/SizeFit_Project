{
 "cells": [
  {
   "cell_type": "code",
   "execution_count": 1,
   "metadata": {},
   "outputs": [],
   "source": [
    "import pandas as pd\n",
    "import numpy as np\n",
    "import matplotlib as plt\n",
    "import re\n",
    "from bs4 import BeautifulSoup\n",
    "import json\n",
    "import requests\n",
    "from IPython.display import Image\n",
    "import os\n",
    "import urllib.request\n"
   ]
  },
  {
   "cell_type": "code",
   "execution_count": 2,
   "metadata": {},
   "outputs": [
    {
     "data": {
      "text/plain": [
       "('../inputs/images/test00.jpg', <http.client.HTTPMessage at 0x10e418cd0>)"
      ]
     },
     "execution_count": 2,
     "metadata": {},
     "output_type": "execute_result"
    }
   ],
   "source": [
    "url_image = \"https://assets.vogue.com/photos/5e5e9a03a173d70008c051d2/master/pass/_FIO0937.jpg\"\n",
    "path = \"../inputs/images/test00.jpg\"\n",
    "urllib.request.urlretrieve(url_image, path)"
   ]
  },
  {
   "cell_type": "code",
   "execution_count": 3,
   "metadata": {},
   "outputs": [],
   "source": [
    "#Request API function\n",
    "def requestJSON(url):\n",
    "    res = requests.get(url)\n",
    "    if res.status_code != 200:\n",
    "        print(res.text)\n",
    "        raise ValueError(\"Bad Response\")\n",
    "    return res.json()"
   ]
  },
  {
   "cell_type": "code",
   "execution_count": 125,
   "metadata": {},
   "outputs": [],
   "source": [
    "def extractVogue(designer,collection,urls,names,count=0):\n",
    "      \n",
    "    url = f'https://www.vogue.com/fashion-shows/{collection}/{designer}/slideshow/collection/print'\n",
    "\n",
    "    data = requests.get(url).text\n",
    "    soup = BeautifulSoup(data, 'html.parser')\n",
    "    images = soup.select('.slide--image')\n",
    "    \n",
    "    for image in images:\n",
    "        url_name = image['src']\n",
    "        name = \"OK_\"+str(count).zfill(6)\n",
    "        urls.append(url_name)\n",
    "        names.append(name)\n",
    "        count+=1\n",
    "        \n",
    "        #Extract the pictures\n",
    "        path_name = '../inputs/images/{}.jpg'.format(name)\n",
    "        urllib.request.urlretrieve(url_name, path_name)\n",
    "\n",
    "    #Create dataframe\n",
    "    df = pd.DataFrame()\n",
    "    df[\"urls\"]=urls\n",
    "    df[\"names\"]=names\n",
    "    df = df.set_index(\"names\")\n",
    "    df = df.drop_duplicates()\n",
    "    \n",
    "    return df,urls,names,count"
   ]
  },
  {
   "cell_type": "code",
   "execution_count": 126,
   "metadata": {},
   "outputs": [
    {
     "name": "stdout",
     "output_type": "stream",
     "text": [
      "340\n"
     ]
    }
   ],
   "source": [
    "lst = ['lacoste','miu-miu','louis-vuitton','chanel','altuzarra','hermes']\n",
    "count = 0\n",
    "urls = []\n",
    "names = []\n",
    "for i in lst:\n",
    "    url = f'https://www.vogue.com/fashion-shows/fall-2020-ready-to-wear/{i}/slideshow/collection/print'\n",
    "\n",
    "    data = requests.get(url).text\n",
    "    soup = BeautifulSoup(data, 'html.parser')\n",
    "    images = soup.select('.slide--image')\n",
    "\n",
    "    for ind,image in enumerate(images):\n",
    "        url_name = image['src']\n",
    "        name = \"OK_\"+str(count).zfill(6)\n",
    "        urls.append(url_name)\n",
    "        names.append(name)\n",
    "        count+= 1\n",
    "        \n",
    "        #Extract the pictures\n",
    "        path_name = '../inputs/images/{}.jpg'.format(name)\n",
    "        urllib.request.urlretrieve(url_name, path_name)\n",
    "\n",
    "#Create dataframe\n",
    "df = pd.DataFrame()\n",
    "df[\"urls\"]=urls\n",
    "df[\"names\"]=names\n",
    "df = df.set_index(\"names\")\n",
    "df = df.drop_duplicates()\n",
    "\n",
    "print(count)"
   ]
  },
  {
   "cell_type": "code",
   "execution_count": 127,
   "metadata": {},
   "outputs": [],
   "source": [
    "df,urls,names,count = extractVogue(\"moises-nieto\",\"madrid-spring-2020\",urls,names,count)"
   ]
  },
  {
   "cell_type": "code",
   "execution_count": 128,
   "metadata": {},
   "outputs": [
    {
     "data": {
      "text/html": [
       "<div>\n",
       "<style scoped>\n",
       "    .dataframe tbody tr th:only-of-type {\n",
       "        vertical-align: middle;\n",
       "    }\n",
       "\n",
       "    .dataframe tbody tr th {\n",
       "        vertical-align: top;\n",
       "    }\n",
       "\n",
       "    .dataframe thead th {\n",
       "        text-align: right;\n",
       "    }\n",
       "</style>\n",
       "<table border=\"1\" class=\"dataframe\">\n",
       "  <thead>\n",
       "    <tr style=\"text-align: right;\">\n",
       "      <th></th>\n",
       "      <th>urls</th>\n",
       "    </tr>\n",
       "    <tr>\n",
       "      <th>names</th>\n",
       "      <th></th>\n",
       "    </tr>\n",
       "  </thead>\n",
       "  <tbody>\n",
       "    <tr>\n",
       "      <th>OK_000000</th>\n",
       "      <td>https://assets.vogue.com/photos/5e5e9a3cc66797...</td>\n",
       "    </tr>\n",
       "    <tr>\n",
       "      <th>OK_000001</th>\n",
       "      <td>https://assets.vogue.com/photos/5e5e99ef02f19a...</td>\n",
       "    </tr>\n",
       "    <tr>\n",
       "      <th>OK_000002</th>\n",
       "      <td>https://assets.vogue.com/photos/5e5e9a61b8b636...</td>\n",
       "    </tr>\n",
       "    <tr>\n",
       "      <th>OK_000003</th>\n",
       "      <td>https://assets.vogue.com/photos/5e5e9a1ea173d7...</td>\n",
       "    </tr>\n",
       "    <tr>\n",
       "      <th>OK_000004</th>\n",
       "      <td>https://assets.vogue.com/photos/5e5e99f36dd294...</td>\n",
       "    </tr>\n",
       "    <tr>\n",
       "      <th>...</th>\n",
       "      <td>...</td>\n",
       "    </tr>\n",
       "    <tr>\n",
       "      <th>OK_000368</th>\n",
       "      <td>https://assets.vogue.com/photos/5d1fb29180c51b...</td>\n",
       "    </tr>\n",
       "    <tr>\n",
       "      <th>OK_000369</th>\n",
       "      <td>https://assets.vogue.com/photos/5d1fb2b2212794...</td>\n",
       "    </tr>\n",
       "    <tr>\n",
       "      <th>OK_000370</th>\n",
       "      <td>https://assets.vogue.com/photos/5d1fb2a7e7d74e...</td>\n",
       "    </tr>\n",
       "    <tr>\n",
       "      <th>OK_000371</th>\n",
       "      <td>https://assets.vogue.com/photos/5d1fb2bd1bce71...</td>\n",
       "    </tr>\n",
       "    <tr>\n",
       "      <th>OK_000372</th>\n",
       "      <td>https://assets.vogue.com/photos/5d1fb2b880c51b...</td>\n",
       "    </tr>\n",
       "  </tbody>\n",
       "</table>\n",
       "<p>373 rows × 1 columns</p>\n",
       "</div>"
      ],
      "text/plain": [
       "                                                        urls\n",
       "names                                                       \n",
       "OK_000000  https://assets.vogue.com/photos/5e5e9a3cc66797...\n",
       "OK_000001  https://assets.vogue.com/photos/5e5e99ef02f19a...\n",
       "OK_000002  https://assets.vogue.com/photos/5e5e9a61b8b636...\n",
       "OK_000003  https://assets.vogue.com/photos/5e5e9a1ea173d7...\n",
       "OK_000004  https://assets.vogue.com/photos/5e5e99f36dd294...\n",
       "...                                                      ...\n",
       "OK_000368  https://assets.vogue.com/photos/5d1fb29180c51b...\n",
       "OK_000369  https://assets.vogue.com/photos/5d1fb2b2212794...\n",
       "OK_000370  https://assets.vogue.com/photos/5d1fb2a7e7d74e...\n",
       "OK_000371  https://assets.vogue.com/photos/5d1fb2bd1bce71...\n",
       "OK_000372  https://assets.vogue.com/photos/5d1fb2b880c51b...\n",
       "\n",
       "[373 rows x 1 columns]"
      ]
     },
     "execution_count": 128,
     "metadata": {},
     "output_type": "execute_result"
    }
   ],
   "source": [
    "df"
   ]
  },
  {
   "cell_type": "code",
   "execution_count": 129,
   "metadata": {},
   "outputs": [],
   "source": [
    "df,urls,names,count = extractVogue(\"jacquemus\",\"spring-2020-menswear\",urls,names,count)"
   ]
  },
  {
   "cell_type": "code",
   "execution_count": 130,
   "metadata": {},
   "outputs": [],
   "source": [
    "df,urls,names,count = extractVogue(\"ludovic-de-saint-sernin\",\"spring-2020-menswear\",urls,names,count)"
   ]
  },
  {
   "cell_type": "code",
   "execution_count": 131,
   "metadata": {},
   "outputs": [],
   "source": [
    "df,urls,names,count = extractVogue(\"abasi-rosborough\",\"spring-2020-menswear\",urls,names,count)"
   ]
  },
  {
   "cell_type": "code",
   "execution_count": 132,
   "metadata": {},
   "outputs": [],
   "source": [
    "df,urls,names,count = extractVogue(\"alyx\",\"fall-2020-menswear\",urls,names,count)"
   ]
  },
  {
   "cell_type": "code",
   "execution_count": 133,
   "metadata": {},
   "outputs": [],
   "source": [
    "df,urls,names,count = extractVogue(\"todd-snyder\",\"spring-2019-menswear\",urls,names,count)"
   ]
  },
  {
   "cell_type": "code",
   "execution_count": 134,
   "metadata": {},
   "outputs": [
    {
     "data": {
      "text/html": [
       "<div>\n",
       "<style scoped>\n",
       "    .dataframe tbody tr th:only-of-type {\n",
       "        vertical-align: middle;\n",
       "    }\n",
       "\n",
       "    .dataframe tbody tr th {\n",
       "        vertical-align: top;\n",
       "    }\n",
       "\n",
       "    .dataframe thead th {\n",
       "        text-align: right;\n",
       "    }\n",
       "</style>\n",
       "<table border=\"1\" class=\"dataframe\">\n",
       "  <thead>\n",
       "    <tr style=\"text-align: right;\">\n",
       "      <th></th>\n",
       "      <th>urls</th>\n",
       "    </tr>\n",
       "    <tr>\n",
       "      <th>names</th>\n",
       "      <th></th>\n",
       "    </tr>\n",
       "  </thead>\n",
       "  <tbody>\n",
       "    <tr>\n",
       "      <th>OK_000000</th>\n",
       "      <td>https://assets.vogue.com/photos/5e5e9a3cc66797...</td>\n",
       "    </tr>\n",
       "    <tr>\n",
       "      <th>OK_000001</th>\n",
       "      <td>https://assets.vogue.com/photos/5e5e99ef02f19a...</td>\n",
       "    </tr>\n",
       "    <tr>\n",
       "      <th>OK_000002</th>\n",
       "      <td>https://assets.vogue.com/photos/5e5e9a61b8b636...</td>\n",
       "    </tr>\n",
       "    <tr>\n",
       "      <th>OK_000003</th>\n",
       "      <td>https://assets.vogue.com/photos/5e5e9a1ea173d7...</td>\n",
       "    </tr>\n",
       "    <tr>\n",
       "      <th>OK_000004</th>\n",
       "      <td>https://assets.vogue.com/photos/5e5e99f36dd294...</td>\n",
       "    </tr>\n",
       "    <tr>\n",
       "      <th>...</th>\n",
       "      <td>...</td>\n",
       "    </tr>\n",
       "    <tr>\n",
       "      <th>OK_000569</th>\n",
       "      <td>https://assets.vogue.com/photos/5b46b5d25002ba...</td>\n",
       "    </tr>\n",
       "    <tr>\n",
       "      <th>OK_000570</th>\n",
       "      <td>https://assets.vogue.com/photos/5b46b5d4bc8685...</td>\n",
       "    </tr>\n",
       "    <tr>\n",
       "      <th>OK_000571</th>\n",
       "      <td>https://assets.vogue.com/photos/5b46b5d6bc8685...</td>\n",
       "    </tr>\n",
       "    <tr>\n",
       "      <th>OK_000572</th>\n",
       "      <td>https://assets.vogue.com/photos/5b46b5d85002ba...</td>\n",
       "    </tr>\n",
       "    <tr>\n",
       "      <th>OK_000573</th>\n",
       "      <td>https://assets.vogue.com/photos/5b46b5d9cfb35f...</td>\n",
       "    </tr>\n",
       "  </tbody>\n",
       "</table>\n",
       "<p>574 rows × 1 columns</p>\n",
       "</div>"
      ],
      "text/plain": [
       "                                                        urls\n",
       "names                                                       \n",
       "OK_000000  https://assets.vogue.com/photos/5e5e9a3cc66797...\n",
       "OK_000001  https://assets.vogue.com/photos/5e5e99ef02f19a...\n",
       "OK_000002  https://assets.vogue.com/photos/5e5e9a61b8b636...\n",
       "OK_000003  https://assets.vogue.com/photos/5e5e9a1ea173d7...\n",
       "OK_000004  https://assets.vogue.com/photos/5e5e99f36dd294...\n",
       "...                                                      ...\n",
       "OK_000569  https://assets.vogue.com/photos/5b46b5d25002ba...\n",
       "OK_000570  https://assets.vogue.com/photos/5b46b5d4bc8685...\n",
       "OK_000571  https://assets.vogue.com/photos/5b46b5d6bc8685...\n",
       "OK_000572  https://assets.vogue.com/photos/5b46b5d85002ba...\n",
       "OK_000573  https://assets.vogue.com/photos/5b46b5d9cfb35f...\n",
       "\n",
       "[574 rows x 1 columns]"
      ]
     },
     "execution_count": 134,
     "metadata": {},
     "output_type": "execute_result"
    }
   ],
   "source": [
    "df"
   ]
  },
  {
   "cell_type": "code",
   "execution_count": 135,
   "metadata": {},
   "outputs": [
    {
     "name": "stdout",
     "output_type": "stream",
     "text": [
      "574\n"
     ]
    }
   ],
   "source": [
    "print(count)"
   ]
  },
  {
   "cell_type": "code",
   "execution_count": 136,
   "metadata": {},
   "outputs": [],
   "source": [
    "df,urls,names,count = extractVogue(\"berluti\",\"spring-2017-menswear\",urls,names,count)"
   ]
  },
  {
   "cell_type": "code",
   "execution_count": 137,
   "metadata": {},
   "outputs": [
    {
     "data": {
      "text/html": [
       "<div>\n",
       "<style scoped>\n",
       "    .dataframe tbody tr th:only-of-type {\n",
       "        vertical-align: middle;\n",
       "    }\n",
       "\n",
       "    .dataframe tbody tr th {\n",
       "        vertical-align: top;\n",
       "    }\n",
       "\n",
       "    .dataframe thead th {\n",
       "        text-align: right;\n",
       "    }\n",
       "</style>\n",
       "<table border=\"1\" class=\"dataframe\">\n",
       "  <thead>\n",
       "    <tr style=\"text-align: right;\">\n",
       "      <th></th>\n",
       "      <th>urls</th>\n",
       "    </tr>\n",
       "    <tr>\n",
       "      <th>names</th>\n",
       "      <th></th>\n",
       "    </tr>\n",
       "  </thead>\n",
       "  <tbody>\n",
       "    <tr>\n",
       "      <th>OK_000000</th>\n",
       "      <td>https://assets.vogue.com/photos/5e5e9a3cc66797...</td>\n",
       "    </tr>\n",
       "    <tr>\n",
       "      <th>OK_000001</th>\n",
       "      <td>https://assets.vogue.com/photos/5e5e99ef02f19a...</td>\n",
       "    </tr>\n",
       "    <tr>\n",
       "      <th>OK_000002</th>\n",
       "      <td>https://assets.vogue.com/photos/5e5e9a61b8b636...</td>\n",
       "    </tr>\n",
       "    <tr>\n",
       "      <th>OK_000003</th>\n",
       "      <td>https://assets.vogue.com/photos/5e5e9a1ea173d7...</td>\n",
       "    </tr>\n",
       "    <tr>\n",
       "      <th>OK_000004</th>\n",
       "      <td>https://assets.vogue.com/photos/5e5e99f36dd294...</td>\n",
       "    </tr>\n",
       "    <tr>\n",
       "      <th>...</th>\n",
       "      <td>...</td>\n",
       "    </tr>\n",
       "    <tr>\n",
       "      <th>OK_000590</th>\n",
       "      <td>https://assets.vogue.com/photos/576eb6655124fe...</td>\n",
       "    </tr>\n",
       "    <tr>\n",
       "      <th>OK_000591</th>\n",
       "      <td>https://assets.vogue.com/photos/576eb664127111...</td>\n",
       "    </tr>\n",
       "    <tr>\n",
       "      <th>OK_000592</th>\n",
       "      <td>https://assets.vogue.com/photos/576eb668127111...</td>\n",
       "    </tr>\n",
       "    <tr>\n",
       "      <th>OK_000593</th>\n",
       "      <td>https://assets.vogue.com/photos/576eb668d7b4ae...</td>\n",
       "    </tr>\n",
       "    <tr>\n",
       "      <th>OK_000594</th>\n",
       "      <td>https://assets.vogue.com/photos/576eb66b5124fe...</td>\n",
       "    </tr>\n",
       "  </tbody>\n",
       "</table>\n",
       "<p>595 rows × 1 columns</p>\n",
       "</div>"
      ],
      "text/plain": [
       "                                                        urls\n",
       "names                                                       \n",
       "OK_000000  https://assets.vogue.com/photos/5e5e9a3cc66797...\n",
       "OK_000001  https://assets.vogue.com/photos/5e5e99ef02f19a...\n",
       "OK_000002  https://assets.vogue.com/photos/5e5e9a61b8b636...\n",
       "OK_000003  https://assets.vogue.com/photos/5e5e9a1ea173d7...\n",
       "OK_000004  https://assets.vogue.com/photos/5e5e99f36dd294...\n",
       "...                                                      ...\n",
       "OK_000590  https://assets.vogue.com/photos/576eb6655124fe...\n",
       "OK_000591  https://assets.vogue.com/photos/576eb664127111...\n",
       "OK_000592  https://assets.vogue.com/photos/576eb668127111...\n",
       "OK_000593  https://assets.vogue.com/photos/576eb668d7b4ae...\n",
       "OK_000594  https://assets.vogue.com/photos/576eb66b5124fe...\n",
       "\n",
       "[595 rows x 1 columns]"
      ]
     },
     "execution_count": 137,
     "metadata": {},
     "output_type": "execute_result"
    }
   ],
   "source": [
    "df"
   ]
  },
  {
   "cell_type": "code",
   "execution_count": 138,
   "metadata": {},
   "outputs": [
    {
     "data": {
      "text/plain": [
       "595"
      ]
     },
     "execution_count": 138,
     "metadata": {},
     "output_type": "execute_result"
    }
   ],
   "source": [
    "count"
   ]
  },
  {
   "cell_type": "code",
   "execution_count": 139,
   "metadata": {},
   "outputs": [
    {
     "data": {
      "text/html": [
       "<div>\n",
       "<style scoped>\n",
       "    .dataframe tbody tr th:only-of-type {\n",
       "        vertical-align: middle;\n",
       "    }\n",
       "\n",
       "    .dataframe tbody tr th {\n",
       "        vertical-align: top;\n",
       "    }\n",
       "\n",
       "    .dataframe thead th {\n",
       "        text-align: right;\n",
       "    }\n",
       "</style>\n",
       "<table border=\"1\" class=\"dataframe\">\n",
       "  <thead>\n",
       "    <tr style=\"text-align: right;\">\n",
       "      <th></th>\n",
       "      <th>urls</th>\n",
       "    </tr>\n",
       "    <tr>\n",
       "      <th>names</th>\n",
       "      <th></th>\n",
       "    </tr>\n",
       "  </thead>\n",
       "  <tbody>\n",
       "    <tr>\n",
       "      <th>OK_000000</th>\n",
       "      <td>https://assets.vogue.com/photos/5e5e9a3cc66797...</td>\n",
       "    </tr>\n",
       "    <tr>\n",
       "      <th>OK_000001</th>\n",
       "      <td>https://assets.vogue.com/photos/5e5e99ef02f19a...</td>\n",
       "    </tr>\n",
       "    <tr>\n",
       "      <th>OK_000002</th>\n",
       "      <td>https://assets.vogue.com/photos/5e5e9a61b8b636...</td>\n",
       "    </tr>\n",
       "    <tr>\n",
       "      <th>OK_000003</th>\n",
       "      <td>https://assets.vogue.com/photos/5e5e9a1ea173d7...</td>\n",
       "    </tr>\n",
       "    <tr>\n",
       "      <th>OK_000004</th>\n",
       "      <td>https://assets.vogue.com/photos/5e5e99f36dd294...</td>\n",
       "    </tr>\n",
       "    <tr>\n",
       "      <th>...</th>\n",
       "      <td>...</td>\n",
       "    </tr>\n",
       "    <tr>\n",
       "      <th>OK_000590</th>\n",
       "      <td>https://assets.vogue.com/photos/576eb6655124fe...</td>\n",
       "    </tr>\n",
       "    <tr>\n",
       "      <th>OK_000591</th>\n",
       "      <td>https://assets.vogue.com/photos/576eb664127111...</td>\n",
       "    </tr>\n",
       "    <tr>\n",
       "      <th>OK_000592</th>\n",
       "      <td>https://assets.vogue.com/photos/576eb668127111...</td>\n",
       "    </tr>\n",
       "    <tr>\n",
       "      <th>OK_000593</th>\n",
       "      <td>https://assets.vogue.com/photos/576eb668d7b4ae...</td>\n",
       "    </tr>\n",
       "    <tr>\n",
       "      <th>OK_000594</th>\n",
       "      <td>https://assets.vogue.com/photos/576eb66b5124fe...</td>\n",
       "    </tr>\n",
       "  </tbody>\n",
       "</table>\n",
       "<p>595 rows × 1 columns</p>\n",
       "</div>"
      ],
      "text/plain": [
       "                                                        urls\n",
       "names                                                       \n",
       "OK_000000  https://assets.vogue.com/photos/5e5e9a3cc66797...\n",
       "OK_000001  https://assets.vogue.com/photos/5e5e99ef02f19a...\n",
       "OK_000002  https://assets.vogue.com/photos/5e5e9a61b8b636...\n",
       "OK_000003  https://assets.vogue.com/photos/5e5e9a1ea173d7...\n",
       "OK_000004  https://assets.vogue.com/photos/5e5e99f36dd294...\n",
       "...                                                      ...\n",
       "OK_000590  https://assets.vogue.com/photos/576eb6655124fe...\n",
       "OK_000591  https://assets.vogue.com/photos/576eb664127111...\n",
       "OK_000592  https://assets.vogue.com/photos/576eb668127111...\n",
       "OK_000593  https://assets.vogue.com/photos/576eb668d7b4ae...\n",
       "OK_000594  https://assets.vogue.com/photos/576eb66b5124fe...\n",
       "\n",
       "[595 rows x 1 columns]"
      ]
     },
     "execution_count": 139,
     "metadata": {},
     "output_type": "execute_result"
    }
   ],
   "source": [
    "df"
   ]
  },
  {
   "cell_type": "code",
   "execution_count": null,
   "metadata": {},
   "outputs": [],
   "source": []
  }
 ],
 "metadata": {
  "kernelspec": {
   "display_name": "Python 3",
   "language": "python",
   "name": "python3"
  },
  "language_info": {
   "codemirror_mode": {
    "name": "ipython",
    "version": 3
   },
   "file_extension": ".py",
   "mimetype": "text/x-python",
   "name": "python",
   "nbconvert_exporter": "python",
   "pygments_lexer": "ipython3",
   "version": "3.7.6"
  }
 },
 "nbformat": 4,
 "nbformat_minor": 2
}
