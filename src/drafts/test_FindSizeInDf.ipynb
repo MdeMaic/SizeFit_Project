{
 "cells": [
  {
   "cell_type": "code",
   "execution_count": 1,
   "metadata": {},
   "outputs": [],
   "source": [
    "import pandas as pd"
   ]
  },
  {
   "cell_type": "code",
   "execution_count": 63,
   "metadata": {},
   "outputs": [
    {
     "data": {
      "text/html": [
       "<div>\n",
       "<style scoped>\n",
       "    .dataframe tbody tr th:only-of-type {\n",
       "        vertical-align: middle;\n",
       "    }\n",
       "\n",
       "    .dataframe tbody tr th {\n",
       "        vertical-align: top;\n",
       "    }\n",
       "\n",
       "    .dataframe thead th {\n",
       "        text-align: right;\n",
       "    }\n",
       "</style>\n",
       "<table border=\"1\" class=\"dataframe\">\n",
       "  <thead>\n",
       "    <tr style=\"text-align: right;\">\n",
       "      <th></th>\n",
       "      <th>talla</th>\n",
       "      <th>age</th>\n",
       "      <th>Altura</th>\n",
       "      <th>Pecho</th>\n",
       "      <th>Cintura</th>\n",
       "      <th>Cadera</th>\n",
       "      <th>Long_pierna</th>\n",
       "      <th>Peso</th>\n",
       "      <th>public</th>\n",
       "    </tr>\n",
       "  </thead>\n",
       "  <tbody>\n",
       "    <tr>\n",
       "      <th>0</th>\n",
       "      <td>13 – 14 años</td>\n",
       "      <td>13.500000</td>\n",
       "      <td>164</td>\n",
       "      <td>84</td>\n",
       "      <td>71</td>\n",
       "      <td>86</td>\n",
       "      <td>76</td>\n",
       "      <td>50.0</td>\n",
       "      <td>Niña&amp;Niño</td>\n",
       "    </tr>\n",
       "    <tr>\n",
       "      <th>1</th>\n",
       "      <td>11 – 12 años</td>\n",
       "      <td>11.500000</td>\n",
       "      <td>152</td>\n",
       "      <td>79</td>\n",
       "      <td>68</td>\n",
       "      <td>81</td>\n",
       "      <td>71</td>\n",
       "      <td>40.0</td>\n",
       "      <td>Niña&amp;Niño</td>\n",
       "    </tr>\n",
       "    <tr>\n",
       "      <th>2</th>\n",
       "      <td>10 años</td>\n",
       "      <td>10.000000</td>\n",
       "      <td>140</td>\n",
       "      <td>74</td>\n",
       "      <td>65</td>\n",
       "      <td>76</td>\n",
       "      <td>66</td>\n",
       "      <td>31.0</td>\n",
       "      <td>Niña&amp;Niño</td>\n",
       "    </tr>\n",
       "    <tr>\n",
       "      <th>3</th>\n",
       "      <td>9 años</td>\n",
       "      <td>9.000000</td>\n",
       "      <td>134</td>\n",
       "      <td>71</td>\n",
       "      <td>63</td>\n",
       "      <td>73</td>\n",
       "      <td>62</td>\n",
       "      <td>27.0</td>\n",
       "      <td>Niña&amp;Niño</td>\n",
       "    </tr>\n",
       "    <tr>\n",
       "      <th>4</th>\n",
       "      <td>8 años</td>\n",
       "      <td>8.000000</td>\n",
       "      <td>128</td>\n",
       "      <td>68</td>\n",
       "      <td>61</td>\n",
       "      <td>70</td>\n",
       "      <td>58</td>\n",
       "      <td>24.0</td>\n",
       "      <td>Niña&amp;Niño</td>\n",
       "    </tr>\n",
       "    <tr>\n",
       "      <th>5</th>\n",
       "      <td>7 años</td>\n",
       "      <td>7.000000</td>\n",
       "      <td>122</td>\n",
       "      <td>65</td>\n",
       "      <td>59</td>\n",
       "      <td>67</td>\n",
       "      <td>54</td>\n",
       "      <td>22.0</td>\n",
       "      <td>Niña&amp;Niño</td>\n",
       "    </tr>\n",
       "    <tr>\n",
       "      <th>6</th>\n",
       "      <td>6 años</td>\n",
       "      <td>6.000000</td>\n",
       "      <td>116</td>\n",
       "      <td>62</td>\n",
       "      <td>57</td>\n",
       "      <td>64</td>\n",
       "      <td>50</td>\n",
       "      <td>20.0</td>\n",
       "      <td>Niña&amp;Niño</td>\n",
       "    </tr>\n",
       "    <tr>\n",
       "      <th>7</th>\n",
       "      <td>4 – 5 años</td>\n",
       "      <td>4.500000</td>\n",
       "      <td>110</td>\n",
       "      <td>57</td>\n",
       "      <td>54</td>\n",
       "      <td>59</td>\n",
       "      <td>45</td>\n",
       "      <td>18.0</td>\n",
       "      <td>Bebé</td>\n",
       "    </tr>\n",
       "    <tr>\n",
       "      <th>8</th>\n",
       "      <td>3 – 4 años</td>\n",
       "      <td>3.500000</td>\n",
       "      <td>104</td>\n",
       "      <td>56</td>\n",
       "      <td>53</td>\n",
       "      <td>58</td>\n",
       "      <td>41</td>\n",
       "      <td>16.0</td>\n",
       "      <td>Bebé</td>\n",
       "    </tr>\n",
       "    <tr>\n",
       "      <th>9</th>\n",
       "      <td>2 – 3 años</td>\n",
       "      <td>2.500000</td>\n",
       "      <td>98</td>\n",
       "      <td>55</td>\n",
       "      <td>52</td>\n",
       "      <td>57</td>\n",
       "      <td>37</td>\n",
       "      <td>14.0</td>\n",
       "      <td>Bebé</td>\n",
       "    </tr>\n",
       "    <tr>\n",
       "      <th>10</th>\n",
       "      <td>18 – 24 meses</td>\n",
       "      <td>2.000000</td>\n",
       "      <td>92</td>\n",
       "      <td>53</td>\n",
       "      <td>51</td>\n",
       "      <td>55</td>\n",
       "      <td>33</td>\n",
       "      <td>12.5</td>\n",
       "      <td>Bebé</td>\n",
       "    </tr>\n",
       "    <tr>\n",
       "      <th>11</th>\n",
       "      <td>12 – 18 meses</td>\n",
       "      <td>1.500000</td>\n",
       "      <td>86</td>\n",
       "      <td>51</td>\n",
       "      <td>50</td>\n",
       "      <td>53</td>\n",
       "      <td>29</td>\n",
       "      <td>11.0</td>\n",
       "      <td>Bebé</td>\n",
       "    </tr>\n",
       "    <tr>\n",
       "      <th>12</th>\n",
       "      <td>9 – 12 meses</td>\n",
       "      <td>1.000000</td>\n",
       "      <td>80</td>\n",
       "      <td>49</td>\n",
       "      <td>49</td>\n",
       "      <td>51</td>\n",
       "      <td>25</td>\n",
       "      <td>9.5</td>\n",
       "      <td>Mini</td>\n",
       "    </tr>\n",
       "    <tr>\n",
       "      <th>13</th>\n",
       "      <td>6 – 9 meses</td>\n",
       "      <td>0.750000</td>\n",
       "      <td>74</td>\n",
       "      <td>47</td>\n",
       "      <td>48</td>\n",
       "      <td>49</td>\n",
       "      <td>23</td>\n",
       "      <td>8.0</td>\n",
       "      <td>Mini</td>\n",
       "    </tr>\n",
       "    <tr>\n",
       "      <th>14</th>\n",
       "      <td>3 – 6 meses</td>\n",
       "      <td>0.500000</td>\n",
       "      <td>68</td>\n",
       "      <td>45</td>\n",
       "      <td>46</td>\n",
       "      <td>47</td>\n",
       "      <td>18</td>\n",
       "      <td>7.5</td>\n",
       "      <td>Mini</td>\n",
       "    </tr>\n",
       "    <tr>\n",
       "      <th>15</th>\n",
       "      <td>1 – 3 meses</td>\n",
       "      <td>0.250000</td>\n",
       "      <td>62</td>\n",
       "      <td>43</td>\n",
       "      <td>44</td>\n",
       "      <td>45</td>\n",
       "      <td>16</td>\n",
       "      <td>6.0</td>\n",
       "      <td>Mini</td>\n",
       "    </tr>\n",
       "    <tr>\n",
       "      <th>16</th>\n",
       "      <td>0 – 1 meses</td>\n",
       "      <td>0.083333</td>\n",
       "      <td>56</td>\n",
       "      <td>41</td>\n",
       "      <td>42</td>\n",
       "      <td>43</td>\n",
       "      <td>15</td>\n",
       "      <td>5.0</td>\n",
       "      <td>Mini</td>\n",
       "    </tr>\n",
       "  </tbody>\n",
       "</table>\n",
       "</div>"
      ],
      "text/plain": [
       "            talla        age  Altura  Pecho  Cintura  Cadera  Long_pierna  \\\n",
       "0    13 – 14 años  13.500000     164     84       71      86           76   \n",
       "1    11 – 12 años  11.500000     152     79       68      81           71   \n",
       "2         10 años  10.000000     140     74       65      76           66   \n",
       "3          9 años   9.000000     134     71       63      73           62   \n",
       "4          8 años   8.000000     128     68       61      70           58   \n",
       "5          7 años   7.000000     122     65       59      67           54   \n",
       "6          6 años   6.000000     116     62       57      64           50   \n",
       "7      4 – 5 años   4.500000     110     57       54      59           45   \n",
       "8      3 – 4 años   3.500000     104     56       53      58           41   \n",
       "9      2 – 3 años   2.500000      98     55       52      57           37   \n",
       "10  18 – 24 meses   2.000000      92     53       51      55           33   \n",
       "11  12 – 18 meses   1.500000      86     51       50      53           29   \n",
       "12   9 – 12 meses   1.000000      80     49       49      51           25   \n",
       "13    6 – 9 meses   0.750000      74     47       48      49           23   \n",
       "14    3 – 6 meses   0.500000      68     45       46      47           18   \n",
       "15    1 – 3 meses   0.250000      62     43       44      45           16   \n",
       "16    0 – 1 meses   0.083333      56     41       42      43           15   \n",
       "\n",
       "    Peso     public  \n",
       "0   50.0  Niña&Niño  \n",
       "1   40.0  Niña&Niño  \n",
       "2   31.0  Niña&Niño  \n",
       "3   27.0  Niña&Niño  \n",
       "4   24.0  Niña&Niño  \n",
       "5   22.0  Niña&Niño  \n",
       "6   20.0  Niña&Niño  \n",
       "7   18.0       Bebé  \n",
       "8   16.0       Bebé  \n",
       "9   14.0       Bebé  \n",
       "10  12.5       Bebé  \n",
       "11  11.0       Bebé  \n",
       "12   9.5       Mini  \n",
       "13   8.0       Mini  \n",
       "14   7.5       Mini  \n",
       "15   6.0       Mini  \n",
       "16   5.0       Mini  "
      ]
     },
     "execution_count": 63,
     "metadata": {},
     "output_type": "execute_result"
    }
   ],
   "source": [
    "df = pd.read_csv(\"../../outputs/ropa_clean.csv\",index_col=0)\n",
    "df = df.reset_index(drop=True).drop(columns=['category','prod_category','original'])\n",
    "df"
   ]
  },
  {
   "cell_type": "code",
   "execution_count": 84,
   "metadata": {},
   "outputs": [
    {
     "data": {
      "text/plain": [
       "'8 años'"
      ]
     },
     "execution_count": 84,
     "metadata": {},
     "output_type": "execute_result"
    }
   ],
   "source": [
    "updf = df.loc[(df.Altura >= 120) & (df.Pecho >= 66) & (df.Cintura >= 60) & (df.Cadera >= 65)]\n",
    "updf = newdf.reset_index(drop=True)\n",
    "uptalla = updf.iloc[len(updf.talla)-1,0]\n",
    "uptalla"
   ]
  },
  {
   "cell_type": "code",
   "execution_count": 86,
   "metadata": {},
   "outputs": [
    {
     "data": {
      "text/plain": [
       "'11 – 12 años'"
      ]
     },
     "execution_count": 86,
     "metadata": {},
     "output_type": "execute_result"
    }
   ],
   "source": [
    "dwdf = df.loc[(df.Altura >= 120) & (df.Cadera >= 65) & (df.Long_pierna >= 70)]\n",
    "dwdf = dwdf.reset_index(drop=True)\n",
    "dwtalla = dwdf.iloc[len(dwdf.talla)-1,0]\n",
    "dwtalla"
   ]
  },
  {
   "cell_type": "code",
   "execution_count": 87,
   "metadata": {},
   "outputs": [],
   "source": [
    "measures = {\"altura\":120,\n",
    "            \"pecho\":65.34,\n",
    "            \"cintura\":60.12,\n",
    "            \"cadera\":64.34,\n",
    "            \"pierna\":65\n",
    "            }"
   ]
  },
  {
   "cell_type": "code",
   "execution_count": 94,
   "metadata": {},
   "outputs": [],
   "source": [
    "def findUp(df,measures):\n",
    "    updf = df.loc[(df.Altura >= measures[\"altura\"]) \n",
    "                  & (df.Pecho >= measures[\"pecho\"]) \n",
    "                  & (df.Cintura >= measures[\"cintura\"]) \n",
    "                  & (df.Cadera >= measures[\"cadera\"])]\n",
    "    updf = newdf.reset_index(drop=True)\n",
    "    if len(dwdf)==0:\n",
    "        return None\n",
    "    else:\n",
    "        uptalla = updf.iloc[len(updf.talla)-1,0]\n",
    "        return uptalla\n",
    "\n",
    "def findDw(df,measures):\n",
    "    dwdf = df.loc[(df.Altura >= measures[\"altura\"]) \n",
    "                  & (df.Cadera >= measures[\"cadera\"]) \n",
    "                  & (df.Long_pierna >= measures[\"pierna\"]) ]\n",
    "    dwdf = dwdf.reset_index(drop=True)\n",
    "    if len(dwdf)==0:\n",
    "        return None\n",
    "    else:\n",
    "        dwtalla = dwdf.iloc[len(dwdf.talla)-1,0]\n",
    "        return dwtalla"
   ]
  },
  {
   "cell_type": "code",
   "execution_count": 95,
   "metadata": {},
   "outputs": [
    {
     "data": {
      "text/plain": [
       "'8 años'"
      ]
     },
     "execution_count": 95,
     "metadata": {},
     "output_type": "execute_result"
    }
   ],
   "source": [
    "talla = findUp(df,measures)\n",
    "talla"
   ]
  },
  {
   "cell_type": "code",
   "execution_count": 96,
   "metadata": {},
   "outputs": [
    {
     "data": {
      "text/plain": [
       "'10 años'"
      ]
     },
     "execution_count": 96,
     "metadata": {},
     "output_type": "execute_result"
    }
   ],
   "source": [
    "talla = findDw(df,measures)\n",
    "talla"
   ]
  },
  {
   "cell_type": "code",
   "execution_count": 97,
   "metadata": {},
   "outputs": [
    {
     "data": {
      "text/plain": [
       "5"
      ]
     },
     "execution_count": 97,
     "metadata": {},
     "output_type": "execute_result"
    }
   ],
   "source": [
    "len(measures)"
   ]
  },
  {
   "cell_type": "code",
   "execution_count": null,
   "metadata": {},
   "outputs": [],
   "source": []
  }
 ],
 "metadata": {
  "kernelspec": {
   "display_name": "Python 3",
   "language": "python",
   "name": "python3"
  },
  "language_info": {
   "codemirror_mode": {
    "name": "ipython",
    "version": 3
   },
   "file_extension": ".py",
   "mimetype": "text/x-python",
   "name": "python",
   "nbconvert_exporter": "python",
   "pygments_lexer": "ipython3",
   "version": "3.7.6"
  }
 },
 "nbformat": 4,
 "nbformat_minor": 2
}
